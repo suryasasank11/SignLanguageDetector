{
 "cells": [
  {
   "cell_type": "code",
   "execution_count": 1,
   "id": "336c03c9-438b-4073-9af0-c547dcebc889",
   "metadata": {},
   "outputs": [],
   "source": [
    "#loading python classes and packages\n",
    "from ultralytics import YOLO\n",
    "import mediapipe as mp\n",
    "import os\n",
    "import cv2\n",
    "import numpy as np\n",
    "from keras.utils import to_categorical\n",
    "from keras.layers import  MaxPooling2D\n",
    "from keras.layers import Dense, Dropout, Activation, Flatten, RepeatVector, Bidirectional, LSTM, GRU\n",
    "from keras.layers import Convolution2D\n",
    "from keras.models import Sequential, Model, load_model\n",
    "from keras.callbacks import ModelCheckpoint\n",
    "import pickle\n",
    "from sklearn.model_selection import train_test_split\n",
    "from sklearn.metrics import accuracy_score\n",
    "from keras.callbacks import ModelCheckpoint\n",
    "from sklearn.preprocessing import StandardScaler\n",
    "from sklearn.metrics import precision_score\n",
    "from sklearn.metrics import recall_score\n",
    "from sklearn.metrics import f1_score\n",
    "from sklearn.metrics import confusion_matrix\n",
    "import seaborn as sns\n",
    "import matplotlib.pyplot as plt  \n",
    "import copy\n",
    "import itertools\n",
    "import warnings\n",
    "warnings.filterwarnings(\"ignore\")"
   ]
  },
  {
   "cell_type": "code",
   "execution_count": 3,
   "id": "2ac8bb3a-2cb6-4690-8469-a2bec81b6fbd",
   "metadata": {},
   "outputs": [
    {
     "name": "stdout",
     "output_type": "stream",
     "text": [
      "Yolo Model Loaded\n"
     ]
    }
   ],
   "source": [
    "#yolo confidence threshold to detect hand signs\n",
    "CONFIDENCE_THRESHOLD = 0.50\n",
    "GREEN = (0, 255, 0)\n",
    "yolo_model = YOLO(\"model/best.pt\")\n",
    "print(\"Yolo Model Loaded\")"
   ]
  },
  {
   "cell_type": "code",
   "execution_count": 4,
   "id": "10a29b28-7950-4b95-8fde-2bbf98ad6b28",
   "metadata": {},
   "outputs": [],
   "source": [
    "#function to detect signs using YOLO11\n",
    "def detectSign(frame):\n",
    "    global yolo_model\n",
    "    sign_labels = ['A', 'B', 'C', 'D', 'E', 'F', 'G', 'H', 'I', 'J', 'K', 'L', 'M', 'N', 'O', 'P', 'Q', 'R', 'S', 'T', 'U', 'V', 'W', 'X', 'Y', 'Z']\n",
    "    detections = yolo_model(frame)[0]\n",
    "    label = None\n",
    "    # loop over the detections\n",
    "    for data in detections.boxes.data.tolist():\n",
    "        print(data)\n",
    "        # extract the confidence (i.e., probability) associated with the detection\n",
    "        confidence = data[4]\n",
    "        cls_id = data[5]\n",
    "        # filter out weak detections by ensuring the \n",
    "        # confidence is greater than the minimum confidence\n",
    "        if float(confidence) >= CONFIDENCE_THRESHOLD:\n",
    "            xmin, ymin, xmax, ymax = int(data[0]), int(data[1]), int(data[2]), int(data[3])\n",
    "            label = sign_labels[int(cls_id)]\n",
    "            cv2.rectangle(frame, (xmin, ymin) , (xmax, ymax), GREEN, 2)\n",
    "            cv2.putText(frame, sign_labels[int(cls_id)], (xmin, ymin-10),  cv2.FONT_HERSHEY_SIMPLEX,0.7, (255, 0, 0), 2)            \n",
    "    return frame, label"
   ]
  },
  {
   "cell_type": "code",
   "execution_count": 5,
   "id": "cd9b52e6-44ac-499e-b22c-c64e691b3838",
   "metadata": {},
   "outputs": [],
   "source": [
    "#global variables definition to detect hand signs\n",
    "X = []\n",
    "Y = []\n",
    "filename = \"Dataset\"\n",
    "labels = []\n",
    "min_detection_confidence = 0.7\n",
    "min_tracking_confidence = 0.5\n",
    "mp_hands = mp.solutions.hands\n",
    "hands = mp_hands.Hands(static_image_mode=True, max_num_hands=1, min_detection_confidence=min_detection_confidence, min_tracking_confidence=min_tracking_confidence)\n",
    "drawingModule = mp.solutions.drawing_utils\n",
    "min_detection_confidence = 0.7\n",
    "min_tracking_confidence = 0.5"
   ]
  },
  {
   "cell_type": "code",
   "execution_count": 6,
   "id": "cb928799-7c92-45e5-9708-a5cb9fd728a1",
   "metadata": {},
   "outputs": [
    {
     "name": "stdout",
     "output_type": "stream",
     "text": [
      "Different Hand Gestures Found in Dataset\n",
      "['A LOT', 'ABUSE', 'AFRAID', 'AGREE', 'ALL', 'are you free today', 'are you hiding something', 'bring water for me', 'can i help you', 'can you repeat that please']\n"
     ]
    }
   ],
   "source": [
    "#function to detect hand features\n",
    "def calc_bounding_rect(image, landmarks):\n",
    "    image_width, image_height = image.shape[1], image.shape[0]\n",
    "    landmark_array = np.empty((0, 2), int)\n",
    "    for _, landmark in enumerate(landmarks.landmark):\n",
    "        landmark_x = min(int(landmark.x * image_width), image_width - 1)\n",
    "        landmark_y = min(int(landmark.y * image_height), image_height - 1)\n",
    "        landmark_point = [np.array((landmark_x, landmark_y))]\n",
    "        landmark_array = np.append(landmark_array, landmark_point, axis=0)\n",
    "    x, y, w, h = cv2.boundingRect(landmark_array)\n",
    "    return [x, y, x + w, y + h]\n",
    "\n",
    "\n",
    "def calc_landmark_list(image, landmarks):\n",
    "    image_width, image_height = image.shape[1], image.shape[0]\n",
    "    landmark_point = []\n",
    "    for _, landmark in enumerate(landmarks.landmark):\n",
    "        landmark_x = min(int(landmark.x * image_width), image_width - 1)\n",
    "        landmark_y = min(int(landmark.y * image_height), image_height - 1)\n",
    "        landmark_point.append([landmark_x, landmark_y])\n",
    "    return landmark_point\n",
    "\n",
    "\n",
    "def pre_process_landmark(landmark_list):\n",
    "    temp_landmark_list = copy.deepcopy(landmark_list)\n",
    "    base_x, base_y = 0, 0\n",
    "    for index, landmark_point in enumerate(temp_landmark_list):\n",
    "        if index == 0:\n",
    "            base_x, base_y = landmark_point[0], landmark_point[1]\n",
    "\n",
    "        temp_landmark_list[index][0] = temp_landmark_list[index][0] - base_x\n",
    "        temp_landmark_list[index][1] = temp_landmark_list[index][1] - base_y\n",
    "    temp_landmark_list = list(itertools.chain.from_iterable(temp_landmark_list))\n",
    "    max_value = max(list(map(abs, temp_landmark_list)))\n",
    "    def normalize_(n):\n",
    "        return n / max_value\n",
    "    temp_landmark_list = list(map(normalize_, temp_landmark_list))\n",
    "    return temp_landmark_list\n",
    "\n",
    "for root, dirs, directory in os.walk(filename):\n",
    "    for j in range(len(directory)):\n",
    "        if os.path.isfile(root+\"/\"+directory[j]) and directory[j] != 'Thumbs.db':\n",
    "            name = os.path.basename(root)\n",
    "            if name not in labels:\n",
    "                labels.append(name.strip()) \n",
    "print(\"Different Hand Gestures Found in Dataset\")\n",
    "print(labels)"
   ]
  },
  {
   "cell_type": "code",
   "execution_count": 7,
   "id": "2f1411af-63ad-4fde-b101-bbc1d96bd4fc",
   "metadata": {},
   "outputs": [],
   "source": [
    "#function to get integer label for given hand gesture\n",
    "def getLabel(name):\n",
    "    index = -1\n",
    "    for i in range(len(labels)):\n",
    "        if labels[i] == name:\n",
    "            index = i\n",
    "            break\n",
    "    return index"
   ]
  },
  {
   "cell_type": "code",
   "execution_count": 8,
   "id": "7cf0969c-8c2a-47ad-9770-10ab45ead1b3",
   "metadata": {},
   "outputs": [
    {
     "name": "stdout",
     "output_type": "stream",
     "text": [
      "Total Hand Gesture found in dataset : 83\n"
     ]
    }
   ],
   "source": [
    "#function to load and process gesture images dataset\n",
    "if os.path.exists(\"model/X.txt.npy\"):#if hand gesture features already extracted then load it\n",
    "    X = np.load('model/X.txt.npy')\n",
    "    Y = np.load('model/Y.txt.npy')\n",
    "else:\n",
    "    for root, dirs, directory in os.walk(filename):#if not extracted features then loop and read each image and extract hand features\n",
    "        for j in range(len(directory)):  \n",
    "            name = os.path.basename(root)\n",
    "            img = cv2.imread(root+\"/\"+directory[j])\n",
    "            img = cv2.flip(img, 1)\n",
    "            debug_image = copy.deepcopy(img)\n",
    "            mp_hands = mp.solutions.hands\n",
    "            hands = mp_hands.Hands(static_image_mode=True, max_num_hands=1, min_detection_confidence=min_detection_confidence, min_tracking_confidence=min_tracking_confidence)\n",
    "            results = hands.process(cv2.cvtColor(img, cv2.COLOR_BGR2RGB))\n",
    "            if results.multi_hand_landmarks is not None:\n",
    "                for hand_landmarks, handedness in zip(results.multi_hand_landmarks, results.multi_handedness):\n",
    "                    brect = calc_bounding_rect(debug_image, hand_landmarks)\n",
    "                    landmark_list = calc_landmark_list(debug_image, hand_landmarks)\n",
    "                    pre_processed_landmark_list = pre_process_landmark(landmark_list)\n",
    "                    pre_processed_landmark_list = np.asarray(pre_processed_landmark_list)\n",
    "                    X.append(pre_processed_landmark_list)\n",
    "                    label = getLabel(name)\n",
    "                    Y.append(label)  \n",
    "X = np.asarray(X)\n",
    "Y = np.asarray(Y)\n",
    "np.save('model/X.txt',X)\n",
    "np.save('model/Y.txt',Y)\n",
    "print(\"Total Hand Gesture found in dataset : \"+str(X.shape[0]))"
   ]
  },
  {
   "cell_type": "code",
   "execution_count": 9,
   "id": "6a55484d-a2fb-423e-a0e8-24347242bec2",
   "metadata": {},
   "outputs": [
    {
     "name": "stdout",
     "output_type": "stream",
     "text": [
      "Dataset Processing Completed\n"
     ]
    }
   ],
   "source": [
    "#dataset processing such as shuffling and normalization\n",
    "sc = StandardScaler()\n",
    "X = sc.fit_transform(X)\n",
    "indices = np.arange(X.shape[0])\n",
    "np.random.shuffle(indices)\n",
    "X = X[indices]\n",
    "Y = Y[indices]\n",
    "print(\"Dataset Processing Completed\")"
   ]
  },
  {
   "cell_type": "code",
   "execution_count": 10,
   "id": "595b3b5d-88df-452c-aae7-f6a82edf486b",
   "metadata": {},
   "outputs": [
    {
     "name": "stdout",
     "output_type": "stream",
     "text": [
      "Dataset Train & Test Split Details\n",
      "80% audio files used to train algorithms : 66\n",
      "20% audio files used to test algorithms : 17\n"
     ]
    }
   ],
   "source": [
    "#split dataset into train and test\n",
    "X_train, X_test, y_train, y_test = train_test_split(X, Y, test_size=0.3)\n",
    "X_train = np.load(\"model/X_train.npy\")\n",
    "X_test = np.load(\"model/X_test.npy\")\n",
    "y_train = np.load(\"model/y_train.npy\")\n",
    "y_test = np.load(\"model/y_test.npy\")\n",
    "print(\"Dataset Train & Test Split Details\")\n",
    "print(\"80% audio files used to train algorithms : \"+str(X_train.shape[0]))\n",
    "print(\"20% audio files used to test algorithms : \"+str(X_test.shape[0]))"
   ]
  },
  {
   "cell_type": "code",
   "execution_count": 11,
   "id": "cd955109-f592-4cee-bf9d-33e957a9ffbe",
   "metadata": {},
   "outputs": [],
   "source": [
    "#function to calculate model accuracy and other metrics\n",
    "def calculateMetrics(algorithm, predict, y_test):\n",
    "    a = accuracy_score(y_test,predict)*100\n",
    "    p = precision_score(y_test, predict,average='macro') * 100\n",
    "    r = recall_score(y_test, predict,average='macro') * 100\n",
    "    f = f1_score(y_test, predict,average='macro') * 100\n",
    "    print(algorithm+\" Accuracy  :  \"+str(a))\n",
    "    print(algorithm+\" Precision : \"+str(p))\n",
    "    print(algorithm+\" Recall    : \"+str(r))\n",
    "    print(algorithm+\" FScore    : \"+str(f))    \n",
    "    conf_matrix = confusion_matrix(y_test, predict) \n",
    "    plt.figure(figsize =(10, 5)) \n",
    "    ax = sns.heatmap(conf_matrix, xticklabels = labels, yticklabels = labels, annot = True, cmap=\"viridis\" ,fmt =\"g\");\n",
    "    ax.set_ylim([0,len(labels)])\n",
    "    plt.title(algorithm+\" Confusion matrix\") \n",
    "    plt.xticks(rotation=90)\n",
    "    plt.ylabel('True class') \n",
    "    plt.xlabel('Predicted class') \n",
    "    plt.show()   "
   ]
  },
  {
   "cell_type": "code",
   "execution_count": 12,
   "id": "53c2fac8-8ba1-4498-8436-e61794b94496",
   "metadata": {},
   "outputs": [
    {
     "name": "stdout",
     "output_type": "stream",
     "text": [
      "\u001b[1m1/1\u001b[0m \u001b[32m━━━━━━━━━━━━━━━━━━━━\u001b[0m\u001b[37m\u001b[0m \u001b[1m0s\u001b[0m 327ms/step\n",
      "LSTM Accuracy  :  94.11764705882352\n",
      "LSTM Precision : 96.42857142857143\n",
      "LSTM Recall    : 97.14285714285714\n",
      "LSTM FScore    : 96.3718820861678\n"
     ]
    },
    {
     "data": {
      "image/png": "[encoded data removed]",
      "text/plain": [
       "<Figure size 1000x500 with 2 Axes>"
      ]
     },
     "metadata": {},
     "output_type": "display_data"
    }
   ],
   "source": [
    "#function to train LSTM algorithm on gesture datset\n",
    "#training LSTM algorithm using fully connected layer for features optimization and then LSTM will predict gesture on optimized features\n",
    "lstm_model = Sequential()\n",
    "#defining fully connected MLP layer\n",
    "lstm_model.add(Convolution2D(32, (1 , 1), input_shape = (X_train.shape[1], X_train.shape[2], X_train.shape[3]), activation = 'relu'))\n",
    "lstm_model.add(MaxPooling2D(pool_size = (1, 1)))\n",
    "lstm_model.add(Convolution2D(32, (1, 1), activation = 'relu'))\n",
    "lstm_model.add(MaxPooling2D(pool_size = (1, 1)))\n",
    "lstm_model.add(Flatten())\n",
    "lstm_model.add(RepeatVector(3))\n",
    "#adding LSTM layer as stacked to MLP\n",
    "lstm_model.add(Bidirectional(LSTM(32, activation = 'relu')))#==================adding LSTM\n",
    "#adding dnn dense layer  \n",
    "lstm_model.add(Dense(units = 64))\n",
    "lstm_model.add(Dense(units = y_train.shape[1], activation = 'softmax'))\n",
    "#compiling, training and loading model\n",
    "lstm_model.compile(optimizer = 'adam', loss = 'categorical_crossentropy', metrics = ['accuracy'])\n",
    "if os.path.exists(\"model/lstm_weights.keras\") == False:\n",
    "    model_check_point = ModelCheckpoint(filepath='model/lstm_weights.keras', verbose = 1, save_best_only = True)\n",
    "    hist = lstm_model.fit(X_train, y_train, batch_size = 8, epochs = 100, validation_data=(X_test, y_test), callbacks=[model_check_point], verbose=1)\n",
    "    f = open('model/lstm_hist.pckl', 'wb')\n",
    "    pickle.dump(hist.history, f)\n",
    "    f.close()\n",
    "else:\n",
    "    lstm_model.load_weights(\"model/lstm_weights.keras\")\n",
    "#perform prediction on test data\n",
    "predict = lstm_model.predict(X_test)\n",
    "predict = np.argmax(predict, axis=1)\n",
    "y_test1 = np.argmax(y_test, axis=1)\n",
    "#call this function to calculate accuracy and other metrics\n",
    "calculateMetrics(\"LSTM\", predict, y_test1)"
   ]
  },
  {
   "cell_type": "code",
   "execution_count": 18,
   "id": "d17a968e-b610-4ce2-961b-739aa17857ae",
   "metadata": {},
   "outputs": [],
   "source": [
    "#window based webcam coding\n",
    "from tkinter import messagebox\n",
    "from tkinter import *\n",
    "from tkinter import simpledialog\n",
    "import tkinter\n",
    "from tkinter import filedialog\n",
    "from tkinter.filedialog import askopenfilename\n",
    "import timeit"
   ]
  },
  {
   "cell_type": "code",
   "execution_count": 19,
   "id": "1fdceb3c-6c19-4577-a9f3-139fe6308fa5",
   "metadata": {},
   "outputs": [],
   "source": [
    "#in above screen defining function to detect sign and gesture from webcan\n",
    "def gesturefromWebcam():\n",
    "    global model, sc, min_detection_confidence, min_tracking_confidence, labels\n",
    "    camera = cv2.VideoCapture(0)\n",
    "    yolo_predict = False\n",
    "    while(True):\n",
    "        (grabbed, frame) = camera.read()\n",
    "        if frame is not None:\n",
    "            if yolo_predict == False:\n",
    "                yolo_img, label = detectSign(frame.copy())#call yolo to get sign\n",
    "                yolo_predict = True\n",
    "            if yolo_predict == True: #if sign detected with true then apply lstm to get gesture\n",
    "                frame = cv2.resize(frame, (1000, 800))\n",
    "                img = cv2.flip(frame, 1)\n",
    "                debug_image = copy.deepcopy(img)\n",
    "                results = hands.process(cv2.cvtColor(img, cv2.COLOR_BGR2RGB))\n",
    "                if results.multi_hand_landmarks is not None:\n",
    "                    for hand_landmarks in results.multi_hand_landmarks:\n",
    "                        drawingModule.draw_landmarks(img, hand_landmarks, mp_hands.HAND_CONNECTIONS)\n",
    "                        brect = calc_bounding_rect(debug_image, hand_landmarks)\n",
    "                        landmark_list = calc_landmark_list(debug_image, hand_landmarks)\n",
    "                        pre_processed_landmark_list = pre_process_landmark(landmark_list)\n",
    "                        data = []\n",
    "                        data.append(pre_processed_landmark_list)\n",
    "                        data = np.asarray(data)\n",
    "                        data = sc.transform(data)\n",
    "                        data = np.reshape(data, (data.shape[0], data.shape[1], 1, 1))\n",
    "                        predict = lstm_model.predict(data)#apply lstm to get gesture output\n",
    "                        predict = np.argmax(predict)\n",
    "                        cv2.putText(yolo_img, 'Gesture = '+labels[predict], (10, 25),  cv2.FONT_HERSHEY_SIMPLEX,0.9, (0, 0, 255), 2)   \n",
    "                        yolo_predict = False\n",
    "                else:\n",
    "                    yolo_img = frame\n",
    "            else:\n",
    "                yolo_img = frame\n",
    "            frame = cv2.resize(yolo_img, (1000, 800))            \n",
    "            cv2.imshow(\"Sign Langauge Prediction\", frame)\n",
    "            keypress = cv2.waitKey(1) & 0xFF\n",
    "            if keypress == ord(\"q\"):\n",
    "                break\n",
    "        else:\n",
    "            break\n",
    "    camera.release()\n",
    "    cv2.destroyAllWindows()  "
   ]
  },
  {
   "cell_type": "code",
   "execution_count": 22,
   "id": "b4eb49d4-5f1c-441f-8267-3c0d1d704b06",
   "metadata": {},
   "outputs": [],
   "source": [
    "main = tkinter.Tk()\n",
    "main.title(\"Indian Sign Language Detection\")\n",
    "main.geometry(\"600x300\")\n",
    "\n",
    "font = ('times', 16, 'bold')\n",
    "title = Label(main, text='Indian Sign Language Detection')\n",
    "title.config(bg='chocolate', fg='white')  \n",
    "title.config(font=font)           \n",
    "title.config(height=3, width=120)       \n",
    "title.place(x=0,y=5)\n",
    "\n",
    "font1 = ('times', 13, 'bold')\n",
    "camgesture = Button(main, text=\"Hand Gesture from Webcam\", command=gesturefromWebcam)\n",
    "camgesture.place(x=100,y=100)\n",
    "camgesture.config(font=font1)  \n",
    "main.config(bg='light salmon')\n",
    "main.mainloop()"
   ]
  },
  {
   "cell_type": "code",
   "execution_count": null,
   "id": "791dbef5-4743-4153-8f9a-cd807882cc88",
   "metadata": {},
   "outputs": [],
   "source": []
  }
 ],
 "metadata": {
  "kernelspec": {
   "display_name": "Python 3 (ipykernel)",
   "language": "python",
   "name": "python3"
  },
  "language_info": {
   "codemirror_mode": {
    "name": "ipython",
    "version": 3
   },
   "file_extension": ".py",
   "mimetype": "text/x-python",
   "name": "python",
   "nbconvert_exporter": "python",
   "pygments_lexer": "ipython3",
   "version": "3.10.11"
  }
 },
 "nbformat": 4,
 "nbformat_minor": 5
}
